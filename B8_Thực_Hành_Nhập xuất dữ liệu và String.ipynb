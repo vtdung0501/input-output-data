{
 "cells": [
  {
   "cell_type": "code",
   "execution_count": 5,
   "id": "c4500382",
   "metadata": {},
   "outputs": [
    {
     "name": "stdout",
     "output_type": "stream",
     "text": [
      "Tôi\n",
      "Titíh\n",
      "T í   c\n",
      "Titíhđ ulc\n",
      "hcịl ud iđ hcíht iôT\n"
     ]
    }
   ],
   "source": [
    "# cắt string theo index\n",
    "# cú pháp : <tên biến > [start:end:step]\n",
    "text = \"Tôi thích đi du lịch\"\n",
    "print(text[0:3])\n",
    "print(text[0:10:2])\n",
    "print(text[0:len(text):3])\n",
    "print(text[: : 2]) #start default là 0 , end default là len(text) ,step có thể đi từ giá trị âm\n",
    "print(text[: : -1])"
   ]
  },
  {
   "cell_type": "code",
   "execution_count": 9,
   "id": "493419fb",
   "metadata": {},
   "outputs": [],
   "source": [
    "# ghep chuỗi và lặp chuỗi \n"
   ]
  },
  {
   "cell_type": "code",
   "execution_count": 2,
   "id": "ce8e459a",
   "metadata": {},
   "outputs": [],
   "source": [
    "# count\n"
   ]
  },
  {
   "cell_type": "markdown",
   "id": "b6a2b340",
   "metadata": {},
   "source": [
    "#### thực hành xử lý và in ra các thông tin tương ứng trong chuỗi "
   ]
  },
  {
   "cell_type": "code",
   "execution_count": 6,
   "id": "b1467f87",
   "metadata": {},
   "outputs": [
    {
     "name": "stdout",
     "output_type": "stream",
     "text": [
      "Lớp học\n",
      "python\n",
      "căn bản\n",
      "buổi 8\n"
     ]
    }
   ],
   "source": [
    "content = \"Lớp học python căn bản buổi 8\"\n",
    "# in ra 2 chữ :lớp học\n",
    "print(content[:7])\n",
    "\n",
    "# in ra 2 chữ: python\n",
    "print(content[8:14])\n",
    "\n",
    "# in ra 2 chữ: căn bản\n",
    "print(content[15:22])\n",
    "\n",
    "# in ra chữ : buổi 8\n",
    "print(content[-6:])"
   ]
  },
  {
   "cell_type": "markdown",
   "id": "ac31fbb3",
   "metadata": {},
   "source": [
    "# Bài Tập thực hành"
   ]
  },
  {
   "cell_type": "markdown",
   "id": "4ec0a0d3",
   "metadata": {},
   "source": [
    "## Bài Tập 1"
   ]
  },
  {
   "cell_type": "markdown",
   "id": "ca31248e",
   "metadata": {},
   "source": [
    "Giả sử một chiếc ô tô có vận tốc ban đầu v0, gia tốc a và thời gian t.</p>\n",
    "Viết chương trình python để tìm vận tốc cuối cùng của ô tô và in kết quả ra màn hình.</p>\n",
    "Sử dụng lệnh ép kiểu input() để nhập các giá trị tương ứng cho v0, a và t.</p>\n",
    "Dùng công thức v = v0 + a.t để tính vận tốc cuối cùng"
   ]
  },
  {
   "cell_type": "code",
   "execution_count": 9,
   "id": "aa8f4dde",
   "metadata": {},
   "outputs": [
    {
     "name": "stdout",
     "output_type": "stream",
     "text": [
      "Nhập vận tốc ban đầu: m/s30\n",
      "Nhập gia tốc: 30\n",
      "Nhập thời gian: 3\n",
      "Vận tốc cuối cùng của ô tô là 120 m/s\n"
     ]
    }
   ],
   "source": [
    "v0 = int(input(\"Nhập vận tốc ban đầu m/s: \"))\n",
    "a = int(input(\"Nhập gia tốc m/s^2: \"))\n",
    "t = int(input(\"Nhập thời gian s: \"))\n",
    "v = v0 + a*t\n",
    "print(f'Vận tốc cuối cùng của ô tô là {v} m/s')"
   ]
  },
  {
   "cell_type": "markdown",
   "id": "8b02bcd4",
   "metadata": {},
   "source": [
    "## Bài tập 2"
   ]
  },
  {
   "cell_type": "markdown",
   "id": "ab6b37b6",
   "metadata": {},
   "source": [
    "Viết chương trình để nhập điểm kiểm tra, điểm thi giữa kỳ, điểm thi cuối kỳ, sau đó tính tổng điểm và in kết quả ra màn hình"
   ]
  },
  {
   "cell_type": "code",
   "execution_count": null,
   "id": "095535a9",
   "metadata": {},
   "outputs": [],
   "source": [
    "dkt = int(input(\"Nhập điểm kiểm tra: \"))\n",
    "dtgk = int(input(\"Nhập điểm thi giữa kỳ: \"))\n",
    "dtck = int(input(\"Nhập điểm thi cuối kỳ: \"))\n",
    "tong_diem = dkt + dtgk + dtck\n",
    "print(f'Tổng số điểm là {tong_diem}')"
   ]
  },
  {
   "cell_type": "markdown",
   "id": "076b8074",
   "metadata": {},
   "source": [
    "## Bài Tập 3"
   ]
  },
  {
   "cell_type": "markdown",
   "id": "c0009d80",
   "metadata": {},
   "source": [
    "Viết chương chình nhập vào vận tốc và thời gian của xe chạy của xe taxi </p>\n",
    "yêu cầu 1 :tính quãng đường xe chạy được bao nhiêu km.</p>\n",
    "yêu cầu 2 : đổi km về m </p>\n",
    "yêu cầu 3 : cho biết cứ mỗi 1 km thì được tính với giá cước là 23000 đồng ,hãy tính tổng số tiền khách phải trả."
   ]
  },
  {
   "cell_type": "code",
   "execution_count": 10,
   "id": "a3dec477",
   "metadata": {},
   "outputs": [
    {
     "name": "stdout",
     "output_type": "stream",
     "text": [
      "Nhập vận tốc km/h: 60\n",
      "Nhập thời gian chạy xe h: 0.5\n",
      "Quãng đường xe chạy được là 30000.0 m\n",
      "Số tiền khách phải trả là 690000.0 đồng\n"
     ]
    }
   ],
   "source": [
    "v = int(input(\"Nhập vận tốc km/h: \"))\n",
    "t = float(input(\"Nhập thời gian chạy xe h: \"))\n",
    "s = v*t*1000\n",
    "print(f'Quãng đường xe chạy được là {s} m')\n",
    "so_tien = s*23000/1000\n",
    "print(f'Số tiền khách phải trả là {so_tien} đồng')"
   ]
  },
  {
   "cell_type": "markdown",
   "id": "14e3f09c",
   "metadata": {},
   "source": [
    "## Bài Tập 4"
   ]
  },
  {
   "cell_type": "markdown",
   "id": "07a5d8a0",
   "metadata": {},
   "source": [
    "Nhập vào một string và một số x ,hãy xóa x ký tự đầu tiên của string </p>\n",
    "ví dụ : string = \"hello python\" ,x = 3 </p>\n",
    "    output: \"lo python\""
   ]
  },
  {
   "cell_type": "code",
   "execution_count": 12,
   "id": "b1465df0",
   "metadata": {},
   "outputs": [
    {
     "name": "stdout",
     "output_type": "stream",
     "text": [
      "Nhập một string: hello python\n",
      "Nhập vào số ký tự cần xóa: 4\n",
      "o python\n"
     ]
    }
   ],
   "source": [
    "chuoi = input(\"Nhập một string: \")\n",
    "x = int(input(\"Nhập vào số ký tự cần xóa: \"))\n",
    "print(chuoi[x:])"
   ]
  },
  {
   "cell_type": "markdown",
   "id": "1cd79c05",
   "metadata": {},
   "source": [
    "## Bài Tập 5"
   ]
  },
  {
   "cell_type": "markdown",
   "id": "d0956054",
   "metadata": {},
   "source": [
    "Nhập vào một string ,hãy kiểm tra đây có phải là một string đối xứng không</p>\n",
    "Lưu ý : chuối đối xứng là chuối có thứ tự giống nhau khi đọc từ trái sáng phải hoặc ngược lại</p>\n",
    "vd : abba , abcddcba"
   ]
  },
  {
   "cell_type": "code",
   "execution_count": 14,
   "id": "43d5c2eb",
   "metadata": {},
   "outputs": [
    {
     "name": "stdout",
     "output_type": "stream",
     "text": [
      "Nhập chuỗi cần kiểm tra: abab\n",
      "abab không phải là một string đối xứng.\n"
     ]
    }
   ],
   "source": [
    "chuoi = input(\"Nhập chuỗi cần kiểm tra: \")\n",
    "chuoi_dao_nguoc = chuoi[::-1]\n",
    "if chuoi_dao_nguoc == chuoi:\n",
    "    print(f'{chuoi} là một string đối xứng.')\n",
    "else:\n",
    "    print(f'{chuoi} không phải là một string đối xứng.')"
   ]
  },
  {
   "cell_type": "markdown",
   "id": "2d88272f",
   "metadata": {},
   "source": [
    "## Bài Tập 6 "
   ]
  },
  {
   "cell_type": "markdown",
   "id": "ba2c57ba",
   "metadata": {},
   "source": [
    "Nhập vào một chuỗi string gồm 5 chữ và thực hiện các thao tác :</p>\n",
    "    in ra đổi 2 chữ đầu tiên</p>\n",
    "    in ra chuỗi đó đều in thường</p>\n",
    "    in ra chuỗi đó đều in hoa</p>\n",
    "    in cắt chuỗi đó thành nhiều chuỗi nhỏ</p>\n",
    "    in cắt đó thành những từ có nghĩa</p>\n",
    "    "
   ]
  },
  {
   "cell_type": "code",
   "execution_count": 32,
   "id": "a86cc73b",
   "metadata": {},
   "outputs": [
    {
     "name": "stdout",
     "output_type": "stream",
     "text": [
      "Hello, Tôi là Python\n",
      "xin chào, tôi là python\n",
      "XIN CHÀO, TÔI LÀ PYTHON\n",
      "['Xin', 'chào,', 'Tôi', 'là', 'Python']\n",
      "Xin  Python\n"
     ]
    }
   ],
   "source": [
    "chuoi = \"Xin chào, Tôi là Python\"\n",
    "print(chuoi.replace(\"Xin chào\",\"Hello\"))\n",
    "print(chuoi.lower())\n",
    "print(chuoi.upper())\n",
    "print(chuoi.split())\n",
    "print(chuoi[:4])\n",
    "print(chuoi[-6:])     "
   ]
  },
  {
   "cell_type": "markdown",
   "id": "a562eb4b",
   "metadata": {},
   "source": [
    "## Bài Tập 7"
   ]
  },
  {
   "cell_type": "markdown",
   "id": "fe077b04",
   "metadata": {},
   "source": [
    "Nhập vào 2 chuỗi , chuỗi 1 là Họ và tên đệm, chuỗi 2 là tên của mình </p>\n",
    "Yêu cầu : nối 2 chuỗi lại hoàn chỉnh </p>\n",
    "    vd : Họ tên đêm : Nguyễn Văn </p>\n",
    "        Tên : A</p>\n",
    "     output: Nguyễn Văn A"
   ]
  },
  {
   "cell_type": "code",
   "execution_count": 24,
   "id": "c7787a7c",
   "metadata": {},
   "outputs": [
    {
     "name": "stdout",
     "output_type": "stream",
     "text": [
      "Nhập Họ và tên đệm: Vu Tien\n",
      "Nhập tên: Dung\n",
      "Họ tên đầy đủ là Vu Tien Dung\n"
     ]
    }
   ],
   "source": [
    "chuoi_1 = input(\"Nhập Họ và tên đệm: \")\n",
    "chuoi_2 = input(\"Nhập tên: \")\n",
    "print(f\"Họ tên đầy đủ là: {chuoi_1} {chuoi_2}\")"
   ]
  }
 ],
 "metadata": {
  "kernelspec": {
   "display_name": "Python 3 (ipykernel)",
   "language": "python",
   "name": "python3"
  },
  "language_info": {
   "codemirror_mode": {
    "name": "ipython",
    "version": 3
   },
   "file_extension": ".py",
   "mimetype": "text/x-python",
   "name": "python",
   "nbconvert_exporter": "python",
   "pygments_lexer": "ipython3",
   "version": "3.9.12"
  }
 },
 "nbformat": 4,
 "nbformat_minor": 5
}
